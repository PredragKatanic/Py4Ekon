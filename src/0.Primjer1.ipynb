{
 "cells": [
  {
   "cell_type": "markdown",
   "id": "86639b29-dabe-456d-a20f-37a973492384",
   "metadata": {},
   "source": [
    "# Kretanje cene akcija Apple-a (2000-2024)"
   ]
  },
  {
   "cell_type": "markdown",
   "id": "7084cc84-571a-4cdd-874c-0ca7b1f909e6",
   "metadata": {},
   "source": [
    "## Install modules"
   ]
  },
  {
   "cell_type": "code",
   "execution_count": null,
   "id": "99729d4f-9a0a-4c2d-8da0-5a737c1aa6cc",
   "metadata": {},
   "outputs": [],
   "source": [
    "!pip install yfinance matplotlib pandas"
   ]
  },
  {
   "cell_type": "markdown",
   "id": "6e7a40be-22fb-482e-b062-a2d6c6a9791a",
   "metadata": {},
   "source": [
    "## Python kod"
   ]
  },
  {
   "cell_type": "code",
   "execution_count": null,
   "id": "4d06b4c7-43f4-45be-82e4-cfab52efed6b",
   "metadata": {},
   "outputs": [],
   "source": [
    "# Import modula\n",
    "import yfinance as yf\n",
    "import pandas as pd\n",
    "import matplotlib.pyplot as plt\n",
    "\n",
    "# Preuzimanje podataka o akcijama kompanije Apple (AAPL)\n",
    "symbol = 'AAPL'  # Tiker za Apple\n",
    "data = yf.download(symbol, start='2000-01-01', end='2024-10-31')\n",
    "\n",
    "# Provera prvih nekoliko redova podataka\n",
    "print(\"Prvih pet redova podataka:\")\n",
    "print(data.head())\n",
    "\n",
    "# Izračunavanje dnevnih povraćaja (returns)\n",
    "data['Daily Return'] = data['Close'].pct_change()\n",
    "\n",
    "# Izračunavanje kumulativnog povraćaja\n",
    "data['Cumulative Return'] = (1 + data['Daily Return']).cumprod()\n",
    "\n",
    "# Grafik zatvarajuće cene\n",
    "plt.figure(figsize=(14, 7))\n",
    "plt.plot(data.index, data['Close'], label='Zatvarajuća cena')\n",
    "plt.title('Kretanje cene akcija Apple-a (2000-2024)')\n",
    "plt.xlabel('Datum')\n",
    "plt.ylabel('Cijena (USD)')\n",
    "plt.legend()\n",
    "plt.grid(True)\n",
    "plt.show()"
   ]
  },
  {
   "cell_type": "markdown",
   "id": "fbb0de60-796c-46e9-ae98-4a78255d7448",
   "metadata": {},
   "source": [
    "# Izmjene u kodu"
   ]
  },
  {
   "cell_type": "markdown",
   "id": "a34016d5-f3b8-4886-bc80-76839c97c568",
   "metadata": {},
   "source": [
    "## 1. Promjena tikera"
   ]
  },
  {
   "cell_type": "code",
   "execution_count": null,
   "id": "a504a169-85d5-462e-a703-59c44a79af83",
   "metadata": {},
   "outputs": [],
   "source": [
    "# Import modula\n",
    "import yfinance as yf\n",
    "import pandas as pd\n",
    "import matplotlib.pyplot as plt\n",
    "\n",
    "# Izmjena Tikera\n",
    "symbol = 'TSLA'  # Tiker za Tesla\n",
    "data = yf.download(symbol, start='2000-01-01', end='2024-10-31')\n",
    "\n",
    "# Provera prvih nekoliko redova podataka\n",
    "print(\"Prvih pet redova podataka:\")\n",
    "print(data.head())\n",
    "\n",
    "# Izračunavanje dnevnih povraćaja (returns)\n",
    "data['Daily Return'] = data['Close'].pct_change()\n",
    "\n",
    "# Izračunavanje kumulativnog povraćaja\n",
    "data['Cumulative Return'] = (1 + data['Daily Return']).cumprod()\n",
    "\n",
    "# Grafik zatvarajuće cene\n",
    "plt.figure(figsize=(14, 7))\n",
    "plt.plot(data.index, data['Close'], label='Zatvarajuća cena')\n",
    "# Promjena naslova iz Apple u Tesla\n",
    "plt.title('Kretanje cene akcija Tesla (2000-2024)') \n",
    "plt.xlabel('Datum')\n",
    "plt.ylabel('Cijena (USD)')\n",
    "plt.legend()\n",
    "plt.grid(True)\n",
    "plt.show()"
   ]
  },
  {
   "cell_type": "markdown",
   "id": "f95bd404-c74a-4185-8677-2731a6b1b204",
   "metadata": {},
   "source": [
    "## 2. Prikaz kumulativnog povrata"
   ]
  },
  {
   "cell_type": "code",
   "execution_count": null,
   "id": "99faad21-576a-499b-8afd-f6acfdeb2927",
   "metadata": {},
   "outputs": [],
   "source": [
    "# Import modula\n",
    "import yfinance as yf\n",
    "import pandas as pd\n",
    "import matplotlib.pyplot as plt\n",
    "\n",
    "# Izmjena Tikera\n",
    "symbol = 'TSLA'  # Tiker za Tesla\n",
    "data = yf.download(symbol, start='2000-01-01', end='2024-10-31')\n",
    "\n",
    "# Provera prvih nekoliko redova podataka\n",
    "print(\"Prvih pet redova podataka:\")\n",
    "print(data.head())\n",
    "\n",
    "# Izračunavanje dnevnih povraćaja (returns)\n",
    "data['Daily Return'] = data['Close'].pct_change()\n",
    "\n",
    "# Izračunavanje kumulativnog povraćaja\n",
    "data['Cumulative Return'] = (1 + data['Daily Return']).cumprod()\n",
    "\n",
    "# Grafik zatvarajuće cijene i kumulativnog povrata\n",
    "plt.figure(figsize=(14, 7))\n",
    "plt.plot(data.index, data['Close'], label='Zatvarajuća cijena')\n",
    "plt.plot(data.index, data['Cumulative Return'], label='Kumulativni povrat')\n",
    "plt.title('Kretanje cijene akcija i kumulativni povrat investicije (2000-2024)')\n",
    "plt.xlabel('Datum')\n",
    "plt.ylabel('Vrijednost')\n",
    "plt.legend()\n",
    "plt.grid(True)\n",
    "plt.show()"
   ]
  },
  {
   "cell_type": "code",
   "execution_count": null,
   "id": "85bcbb93-8c90-4943-b6b5-b4455948f5e8",
   "metadata": {},
   "outputs": [],
   "source": []
  }
 ],
 "metadata": {
  "kernelspec": {
   "display_name": "Python 3 (ipykernel)",
   "language": "python",
   "name": "python3"
  },
  "language_info": {
   "codemirror_mode": {
    "name": "ipython",
    "version": 3
   },
   "file_extension": ".py",
   "mimetype": "text/x-python",
   "name": "python",
   "nbconvert_exporter": "python",
   "pygments_lexer": "ipython3",
   "version": "3.12.3"
  }
 },
 "nbformat": 4,
 "nbformat_minor": 5
}
