import yfinance as yf
import pandas as pd
import matplotlib.pyplot as plt

# Preuzimanje podataka o akcijama kompanije Apple (AAPL)
symbol = 'AAPL'  # Tiker za Apple
data = yf.download(symbol, start='2000-01-01', end='2024-10-31')

# Provera prvih nekoliko redova podataka
print("Prvih pet redova podataka:")
print(data.head())

# Izračunavanje dnevnih povraćaja (returns)
data['Daily Return'] = data['Close'].pct_change()

# Izračunavanje kumulativnog povraćaja
data['Cumulative Return'] = (1 + data['Daily Return']).cumprod()

# Grafik zatvarajuće cene
plt.figure(figsize=(14, 7))
plt.plot(data.index, data['Close'], label='Zatvarajuća cena')
plt.title('Kretanje cene akcija Apple-a (2000-2024)')
plt.xlabel('Datum')
plt.ylabel('Cena (USD)')
plt.legend()
plt.grid(True)
plt.show()
