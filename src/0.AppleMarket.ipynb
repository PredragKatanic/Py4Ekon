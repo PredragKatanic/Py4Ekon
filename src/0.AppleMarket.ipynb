{
 "cells": [
  {
   "cell_type": "markdown",
   "id": "c81efc1a-6989-4001-9bea-86b46c96eef4",
   "metadata": {},
   "source": [
    "# Kretanje cene akcija Apple-a (2000-2024)"
   ]
  },
  {
   "cell_type": "markdown",
   "id": "7084cc84-571a-4cdd-874c-0ca7b1f909e6",
   "metadata": {},
   "source": [
    "## Install modules"
   ]
  },
  {
   "cell_type": "code",
   "execution_count": null,
   "id": "99729d4f-9a0a-4c2d-8da0-5a737c1aa6cc",
   "metadata": {},
   "outputs": [],
   "source": [
    "!pip install yfinance matplotlib pandas"
   ]
  },
  {
   "cell_type": "markdown",
   "id": "6e7a40be-22fb-482e-b062-a2d6c6a9791a",
   "metadata": {},
   "source": [
    "## Python kod"
   ]
  },
  {
   "cell_type": "code",
   "execution_count": null,
   "id": "4d06b4c7-43f4-45be-82e4-cfab52efed6b",
   "metadata": {},
   "outputs": [],
   "source": [
    "# Import modula\n",
    "import yfinance as yf\n",
    "import pandas as pd\n",
    "import matplotlib.pyplot as plt\n",
    "\n",
    "# Preuzimanje podataka o akcijama kompanije Apple (AAPL)\n",
    "symbol = 'AAPL'  # Tiker za Apple\n",
    "data = yf.download(symbol, start='2000-01-01', end='2024-10-31')\n",
    "\n",
    "# Provera prvih nekoliko redova podataka\n",
    "print(\"Prvih pet redova podataka:\")\n",
    "print(data.head())\n",
    "\n",
    "# Izračunavanje dnevnih povraćaja (returns)\n",
    "data['Daily Return'] = data['Close'].pct_change()\n",
    "\n",
    "# Izračunavanje kumulativnog povraćaja\n",
    "data['Cumulative Return'] = (1 + data['Daily Return']).cumprod()\n",
    "\n",
    "# Grafik zatvarajuće cene\n",
    "plt.figure(figsize=(14, 7))\n",
    "plt.plot(data.index, data['Close'], label='Zatvarajuća cena')\n",
    "plt.title('Kretanje cene akcija Apple-a (2000-2024)')\n",
    "plt.xlabel('Datum')\n",
    "plt.ylabel('Cena (USD)')\n",
    "plt.legend()\n",
    "plt.grid(True)\n",
    "plt.show()"
   ]
  },
  {
   "cell_type": "code",
   "execution_count": null,
   "id": "884e50a3-4b2f-4d54-aad8-7c76551dfcd7",
   "metadata": {},
   "outputs": [],
   "source": []
  }
 ],
 "metadata": {
  "kernelspec": {
   "display_name": "Python 3 (ipykernel)",
   "language": "python",
   "name": "python3"
  },
  "language_info": {
   "codemirror_mode": {
    "name": "ipython",
    "version": 3
   },
   "file_extension": ".py",
   "mimetype": "text/x-python",
   "name": "python",
   "nbconvert_exporter": "python",
   "pygments_lexer": "ipython3",
   "version": "3.12.3"
  }
 },
 "nbformat": 4,
 "nbformat_minor": 5
}
