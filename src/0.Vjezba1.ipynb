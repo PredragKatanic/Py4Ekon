{
 "cells": [
  {
   "cell_type": "markdown",
   "id": "d34f4dbb-a65e-4da5-b386-f436bd7b8a5d",
   "metadata": {},
   "source": [
    "# Zadatak 1: Apple, Google i Amazon"
   ]
  },
  {
   "cell_type": "code",
   "execution_count": null,
   "id": "73e6ada9-b8c5-490a-8694-9fece8b0f1a1",
   "metadata": {},
   "outputs": [],
   "source": [
    "import yfinance as yf\n",
    "import pandas as pd\n",
    "import matplotlib.pyplot as plt\n",
    "\n",
    "# Preuzimanje podataka o akcijama Apple (AAPL), Google (GOOGL) i Amazon (AMZN)\n",
    "# Apple\n",
    "data_aapl = yf.download('AAPL', start='2000-01-01', end='2023-10-31')\n",
    "close_prices_aapl = data_aapl['Close']\n",
    "# Google\n",
    "data_googl = yf.download('GOOGL', start='2000-01-01', end='2023-10-31')\n",
    "close_prices_googl = data_googl['Close']\n",
    "# Amazon\n",
    "data_amzn = yf.download('AMZN', start='2000-01-01', end='2023-10-31')\n",
    "close_prices_amzn = data_amzn['Close']\n",
    "\n",
    "# Grafik zatvarajućih cijena (Uvedena struktura for:)\n",
    "plt.figure(figsize=(14, 7))\n",
    "\n",
    "plt.plot(close_prices_aapl.index, close_prices_aapl, label='AAPL')\n",
    "plt.plot(close_prices_googl.index, close_prices_googl, label='GOOGL')\n",
    "plt.plot(close_prices_amzn.index, close_prices_amzn, label='AMZN')\n",
    "\n",
    "plt.title('Kretanje cena akcija Apple, Google i Amazon (2000-2023)')\n",
    "plt.xlabel('Datum')\n",
    "plt.ylabel('Cena (USD)')\n",
    "plt.legend()\n",
    "plt.grid(True)\n",
    "plt.show()"
   ]
  },
  {
   "cell_type": "markdown",
   "id": "29a611f7-2533-4128-b3f2-7874cc95854a",
   "metadata": {},
   "source": [
    "# Zadatak 2: Volkswagen, Mercedes-Benz i Toyota"
   ]
  },
  {
   "cell_type": "code",
   "execution_count": null,
   "id": "18108c22-44b6-4292-943b-bdfd655e8380",
   "metadata": {},
   "outputs": [],
   "source": [
    "import yfinance as yf\n",
    "import pandas as pd\n",
    "import matplotlib.pyplot as plt\n",
    "\n",
    "# Preuzimanje podataka o akcijama Volkswagen (VOW3.DE), Mercedes-Benz (MBG.DE) i Toyota (TM)\n",
    "symbols = ['VOW3.DE', 'MBG.DE', 'TM']\n",
    "data = yf.download(symbols, start='2000-01-01', end='2023-10-31')\n",
    "\n",
    "# Zatvarajuće cene\n",
    "close_prices = data['Close']\n",
    "\n",
    "# Grafik zatvarajućih cena (Uvedena struktura for: optimizacija koda)\n",
    "plt.figure(figsize=(14, 7))\n",
    "for symbol in symbols:\n",
    "    plt.plot(close_prices.index, close_prices[symbol], label=symbol)\n",
    "\n",
    "plt.title('Kretanje cena akcija Volkswagen, Mercedes-Benz i Toyota (2000-2023)')\n",
    "plt.xlabel('Datum')\n",
    "plt.ylabel('Cena (Lokalna valuta)')\n",
    "plt.legend()\n",
    "plt.grid(True)\n",
    "plt.show()"
   ]
  },
  {
   "cell_type": "markdown",
   "id": "4881f1f4-9b23-4f6d-a844-ff253b33f2d2",
   "metadata": {},
   "source": [
    "# Zadatak 3: Coca-Cola, Procter & Gamble i Shell"
   ]
  },
  {
   "cell_type": "code",
   "execution_count": null,
   "id": "6a1ecbca-5b02-4d08-aca1-64ffa3fefc60",
   "metadata": {},
   "outputs": [],
   "source": [
    "import yfinance as yf\n",
    "import pandas as pd\n",
    "import matplotlib.pyplot as plt\n",
    "\n",
    "# Preuzimanje podataka o akcijama Coca-Cola (KO), Procter & Gamble (PG) i Shell (SHEL)\n",
    "symbols = ['KO', 'PG', 'SHEL']\n",
    "data = yf.download(symbols, start='2000-01-01', end='2023-10-31')\n",
    "\n",
    "# Zatvarajuće cene\n",
    "close_prices = data['Close']\n",
    "\n",
    "# Grafik zatvarajućih cena\n",
    "plt.figure(figsize=(14, 7))\n",
    "for symbol in symbols:\n",
    "    plt.plot(close_prices.index, close_prices[symbol], label=symbol)\n",
    "\n",
    "plt.title('Kretanje cena akcija Coca-Cola, Procter & Gamble i Shell (2000-2023)')\n",
    "plt.xlabel('Datum')\n",
    "plt.ylabel('Cena (USD)')\n",
    "plt.legend()\n",
    "plt.grid(True)\n",
    "plt.show()"
   ]
  },
  {
   "cell_type": "code",
   "execution_count": null,
   "id": "9cc3fcec-6fd0-4641-ac29-7a4907dbfcee",
   "metadata": {},
   "outputs": [],
   "source": []
  }
 ],
 "metadata": {
  "kernelspec": {
   "display_name": "Python 3 (ipykernel)",
   "language": "python",
   "name": "python3"
  },
  "language_info": {
   "codemirror_mode": {
    "name": "ipython",
    "version": 3
   },
   "file_extension": ".py",
   "mimetype": "text/x-python",
   "name": "python",
   "nbconvert_exporter": "python",
   "pygments_lexer": "ipython3",
   "version": "3.12.3"
  }
 },
 "nbformat": 4,
 "nbformat_minor": 5
}
